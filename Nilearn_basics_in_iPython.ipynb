%hist -f untitled4.py
